{
 "cells": [
  {
   "cell_type": "markdown",
   "id": "3176e974",
   "metadata": {},
   "source": [
    "# Testing Vector DB"
   ]
  },
  {
   "cell_type": "code",
   "execution_count": 2,
   "id": "6166ef44",
   "metadata": {},
   "outputs": [
    {
     "name": "stdout",
     "output_type": "stream",
     "text": [
      "VectorDatabaseManager initialized\n",
      "Documents Directory: /home/haseebmuhammad/Desktop/AITeacherChatbot/CQADatasetFromBooks/AI-books\n",
      "Persist Directory: VectorDBs/bge-large-en_AI-books\n",
      "Model: BAAI/bge-large-en\n"
     ]
    }
   ],
   "source": [
    "from creatingVectorDB import VectorDatabaseManager\n",
    "db_manager = VectorDatabaseManager(documents_directory=\"/home/haseebmuhammad/Desktop/AITeacherChatbot/CQADatasetFromBooks/AI-books\", model_name=\"BAAI/bge-large-en\", collection_name=\"rag-chroma\")\n"
   ]
  },
  {
   "cell_type": "code",
   "execution_count": 3,
   "id": "99890ceb",
   "metadata": {},
   "outputs": [
    {
     "name": "stdout",
     "output_type": "stream",
     "text": [
      "\n",
      "=== Database Statistics ===\n"
     ]
    },
    {
     "name": "stderr",
     "output_type": "stream",
     "text": [
      "/home/haseebmuhammad/Desktop/AITeacherChatbot/DomainSpecificChatbotWebApp/backend/creatingVectorDB.py:86: LangChainDeprecationWarning: The class `Chroma` was deprecated in LangChain 0.2.9 and will be removed in 1.0. An updated version of the class exists in the :class:`~langchain-chroma package and should be used instead. To use it run `pip install -U :class:`~langchain-chroma` and import as `from :class:`~langchain_chroma import Chroma``.\n",
      "  vectorstore = Chroma(\n"
     ]
    },
    {
     "name": "stdout",
     "output_type": "stream",
     "text": [
      "Loaded existing vector database from VectorDBs/bge-large-en_AI-books\n",
      "Total documents: 15974\n",
      "Number of PDFs: 12\n",
      "PDF names: ['ADVANCED_MACHINE_LEARNING_WITH_PYTHON.pdf', 'AI_and_Machine_Learning_for_Coders_A_Programmers_Guide_to_Artificial.pdf', 'BartoSutton.pdf', 'Data Mining - Pratical Machine Learning Tools and Techniques.pdf', 'Foundations_of_Machine_Learning.pdf', 'Ian Goodfellow, Yoshua Bengio, Aaron Courville - Deep Learning (2017, MIT).pdf', 'Machine Learning For Dummies.pdf', 'Neural Networks and Deep Learning_A Textbook-Springer.pdf', 'Stuart Russell, Peter Norvig-Artificial Intelligence_ A Modern Approach-Prentice Hall ( PDFDrive ).pdf', 'machine_learning_for_humans.pdf', 'the-hundred-page-machine-learning-bookpdf-pdf-free.pdf', 'understanding-machine-learning-theory-algorithms BY Shai Shalev-Shwartz and Shai Ben-David.pdf']\n",
      "\n",
      "=== PDFs in Database ===\n",
      "PDFs: ['the-hundred-page-machine-learning-bookpdf-pdf-free.pdf', 'BartoSutton.pdf', 'Data Mining - Pratical Machine Learning Tools and Techniques.pdf', 'Foundations_of_Machine_Learning.pdf', 'ADVANCED_MACHINE_LEARNING_WITH_PYTHON.pdf', 'Stuart Russell, Peter Norvig-Artificial Intelligence_ A Modern Approach-Prentice Hall ( PDFDrive ).pdf', 'Machine Learning For Dummies.pdf', 'Neural Networks and Deep Learning_A Textbook-Springer.pdf', 'AI_and_Machine_Learning_for_Coders_A_Programmers_Guide_to_Artificial.pdf', 'understanding-machine-learning-theory-algorithms BY Shai Shalev-Shwartz and Shai Ben-David.pdf', 'machine_learning_for_humans.pdf', 'Ian Goodfellow, Yoshua Bengio, Aaron Courville - Deep Learning (2017, MIT).pdf']\n"
     ]
    }
   ],
   "source": [
    "print(\"\\n=== Database Statistics ===\")\n",
    "stats = db_manager.get_database_statistics()\n",
    "print(f\"Total documents: {stats.get('total_documents', 0)}\")\n",
    "print(f\"Number of PDFs: {stats.get('pdf_count', 0)}\")\n",
    "print(f\"PDF names: {stats.get('pdf_names', [])}\")\n",
    "\n",
    "# List PDFs in database\n",
    "print(\"\\n=== PDFs in Database ===\")\n",
    "pdf_names = db_manager.list_pdf_names_in_database()\n",
    "print(f\"PDFs: {list(pdf_names)}\")"
   ]
  },
  {
   "cell_type": "code",
   "execution_count": 7,
   "id": "08f1809a",
   "metadata": {},
   "outputs": [
    {
     "name": "stdout",
     "output_type": "stream",
     "text": [
      "page_content='labels are in{1,2,3,4,5}, so it s a multiclass problem. We can use theone versus rest strategy to convert this multiclass problem into ve binary classi cation problems. 1To be more precise we would addD(D 1) parameters wi,j. 2The notation means much less than. Andriy Burkov The Hundred-Page Machine Learning Book - Draft 9' metadata={'author': '', 'chunk_index': 2346, 'cleaned_length': 323, 'creationdate': '2019-04-16T18:30:49-04:00', 'creator': 'LaTeX with hyperref package', 'keywords': '', 'moddate': '2019-05-02T20:11:55-03:00', 'original_length': 329, 'page': 'combined', 'page_label': '1', 'pdf_name': 'the-hundred-page-machine-learning-bookpdf-pdf-free.pdf', 'producer': 'pdfTeX-1.40.19', 'ptex.fullbanner': 'This is pdfTeX, Version 3.14159265-2.6-1.40.19 (TeX Live 2018) kpathsea version 6.3.0', 'source': '/home/haseebmuhammad/Desktop/AITeacherChatbot/CQADatasetFromBooks/AI-books/the-hundred-page-machine-learning-bookpdf-pdf-free.pdf', 'source_file': '/home/haseebmuhammad/Desktop/AITeacherChatbot/CQADatasetFromBooks/AI-books/the-hundred-page-machine-learning-bookpdf-pdf-free.pdf', 'subject': '', 'title': '', 'total_pages': 145, 'trapped': '/False'}\n",
      "page_content='labels are in{1,2,3,4,5}, so it s a multiclass problem. We can use theone versus rest strategy to convert this multiclass problem into ve binary classi cation problems. 1To be more precise we would addD(D 1) parameters wi,j. 2The notation means much less than. Andriy Burkov The Hundred-Page Machine Learning Book - Draft 9' metadata={'author': '', 'chunk_index': 2346, 'cleaned_length': 323, 'creationdate': '2019-04-16T18:30:49-04:00', 'creator': 'LaTeX with hyperref package', 'keywords': '', 'moddate': '2019-05-02T20:11:55-03:00', 'original_length': 329, 'page': 'combined', 'page_label': '1', 'pdf_name': 'the-hundred-page-machine-learning-bookpdf-pdf-free.pdf', 'producer': 'pdfTeX-1.40.19', 'ptex.fullbanner': 'This is pdfTeX, Version 3.14159265-2.6-1.40.19 (TeX Live 2018) kpathsea version 6.3.0', 'source': '/home/haseebmuhammad/Desktop/AITeacherChatbot/CQADatasetFromBooks/AI-books/the-hundred-page-machine-learning-bookpdf-pdf-free.pdf', 'source_file': '/home/haseebmuhammad/Desktop/AITeacherChatbot/CQADatasetFromBooks/AI-books/the-hundred-page-machine-learning-bookpdf-pdf-free.pdf', 'subject': '', 'title': '', 'total_pages': 145, 'trapped': '/False'}\n",
      "page_content='noise, 6 7 class, 568 nominal attributes, 49 mixture model, 289 numeric prediction, 254 symbols, 49 NominalToBinary filter, 433t 435t, 439, 444, 444t, 471 472 NominalToString filter, 433t 435t, 439 nonlinear class boundaries, 226 227 NonSparseToSparse filter, 441t, 442 normal distribution assumption, 97, 99 confidence limits, 152t normalization, 462 Normalize filter, 433t 435t, 437, 441t, 442 NOT, 233 nuclear family, 44 46 null hypothesis, 158 numeric attributes, 49, 314 322 1R, 87 89 classification rules, 205 converting discrete attributes to, 322 decision tree, 193 194 discretization of, 306 Na ve Bayes, 94 97 normal-distribution assumption for, 99 numeric prediction, 15, 40 additive regression, 362 363 bagging for, 354 355 evaluating, 180 182 linear models, 124 125' metadata={'chunk_index': 8091, 'cleaned_length': 778, 'creationdate': '', 'creator': 'PyPDF', 'original_length': 779, 'page': 'combined', 'page_label': 'cover', 'pdf_name': 'Data Mining - Pratical Machine Learning Tools and Techniques.pdf', 'producer': 'PyPDF', 'source': '/home/haseebmuhammad/Desktop/AITeacherChatbot/CQADatasetFromBooks/AI-books/Data Mining - Pratical Machine Learning Tools and Techniques.pdf', 'source_file': '/home/haseebmuhammad/Desktop/AITeacherChatbot/CQADatasetFromBooks/AI-books/Data Mining - Pratical Machine Learning Tools and Techniques.pdf', 'total_pages': 665, 'trapped': '/False'}\n"
     ]
    }
   ],
   "source": [
    "search_results = db_manager.search_documents(\"classification\", k=3)\n",
    "for doc in search_results:\n",
    "    print(doc)\n",
    "# print(search_results)\n",
    "# print(f\"Found {search_results)} search results\")"
   ]
  }
 ],
 "metadata": {
  "kernelspec": {
   "display_name": "rag",
   "language": "python",
   "name": "python3"
  },
  "language_info": {
   "codemirror_mode": {
    "name": "ipython",
    "version": 3
   },
   "file_extension": ".py",
   "mimetype": "text/x-python",
   "name": "python",
   "nbconvert_exporter": "python",
   "pygments_lexer": "ipython3",
   "version": "3.10.15"
  }
 },
 "nbformat": 4,
 "nbformat_minor": 5
}
